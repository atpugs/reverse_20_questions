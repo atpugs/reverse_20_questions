{
  "nbformat": 4,
  "nbformat_minor": 0,
  "metadata": {
    "colab": {
      "name": "BoolQLogistic.ipynb",
      "provenance": [],
      "collapsed_sections": []
    },
    "kernelspec": {
      "name": "python3",
      "display_name": "Python 3"
    },
    "language_info": {
      "name": "python"
    }
  },
  "cells": [
    {
      "cell_type": "code",
      "metadata": {
        "colab": {
          "base_uri": "https://localhost:8080/"
        },
        "id": "mJmb6rJ5WEzB",
        "outputId": "186c4e69-8249-4889-cf55-c79c16d81571"
      },
      "source": [
        "!pip install kaggle"
      ],
      "execution_count": 1,
      "outputs": [
        {
          "output_type": "stream",
          "name": "stdout",
          "text": [
            "Requirement already satisfied: kaggle in /usr/local/lib/python3.7/dist-packages (1.5.12)\n",
            "Requirement already satisfied: requests in /usr/local/lib/python3.7/dist-packages (from kaggle) (2.23.0)\n",
            "Requirement already satisfied: six>=1.10 in /usr/local/lib/python3.7/dist-packages (from kaggle) (1.15.0)\n",
            "Requirement already satisfied: python-slugify in /usr/local/lib/python3.7/dist-packages (from kaggle) (5.0.2)\n",
            "Requirement already satisfied: tqdm in /usr/local/lib/python3.7/dist-packages (from kaggle) (4.62.3)\n",
            "Requirement already satisfied: python-dateutil in /usr/local/lib/python3.7/dist-packages (from kaggle) (2.8.2)\n",
            "Requirement already satisfied: certifi in /usr/local/lib/python3.7/dist-packages (from kaggle) (2021.5.30)\n",
            "Requirement already satisfied: urllib3 in /usr/local/lib/python3.7/dist-packages (from kaggle) (1.24.3)\n",
            "Requirement already satisfied: text-unidecode>=1.3 in /usr/local/lib/python3.7/dist-packages (from python-slugify->kaggle) (1.3)\n",
            "Requirement already satisfied: idna<3,>=2.5 in /usr/local/lib/python3.7/dist-packages (from requests->kaggle) (2.10)\n",
            "Requirement already satisfied: chardet<4,>=3.0.2 in /usr/local/lib/python3.7/dist-packages (from requests->kaggle) (3.0.4)\n"
          ]
        }
      ]
    },
    {
      "cell_type": "code",
      "metadata": {
        "colab": {
          "base_uri": "https://localhost:8080/"
        },
        "id": "sQQadgZha2Wg",
        "outputId": "fc8b36e5-5d04-4016-d640-32ed84723435"
      },
      "source": [
        "!touch kaggle.json\n",
        "!echo '{\"username\":\"pncnmnp\",\"key\":\"50f30c114712a78ad4159645314bcde6\"}' > kaggle.json\n",
        "!cat kaggle.json"
      ],
      "execution_count": 2,
      "outputs": [
        {
          "output_type": "stream",
          "name": "stdout",
          "text": [
            "{\"username\":\"pncnmnp\",\"key\":\"50f30c114712a78ad4159645314bcde6\"}\n"
          ]
        }
      ]
    },
    {
      "cell_type": "code",
      "metadata": {
        "id": "SXSclcwCa5P_"
      },
      "source": [
        "!mkdir -p ~/.kaggle\n",
        "!cp kaggle.json ~/.kaggle/\n",
        "!chmod 600 /root/.kaggle/kaggle.json"
      ],
      "execution_count": 3,
      "outputs": []
    },
    {
      "cell_type": "code",
      "metadata": {
        "colab": {
          "base_uri": "https://localhost:8080/"
        },
        "id": "deq4yNlPa7SI",
        "outputId": "dc93a5da-baf6-4b9a-ae73-5b6a31fde09b"
      },
      "source": [
        "!kaggle datasets list -s boolq"
      ],
      "execution_count": 4,
      "outputs": [
        {
          "output_type": "stream",
          "name": "stdout",
          "text": [
            "Warning: Looks like you're using an outdated API Version, please consider updating (server 1.5.12 / client 1.5.4)\n",
            "ref                    title                 size  lastUpdated          downloadCount  \n",
            "---------------------  --------------------  ----  -------------------  -------------  \n",
            "averkij/boolq-dataset  Google BoolQ Dataset   4MB  2020-01-17 15:10:39            251  \n",
            "parthplc/boolq-csv     Boolq Csv              3MB  2020-08-04 16:03:08             22  \n",
            "xhlulu/superglue       SuperGLUE             56MB  2020-01-24 02:42:33             33  \n"
          ]
        }
      ]
    },
    {
      "cell_type": "code",
      "metadata": {
        "colab": {
          "base_uri": "https://localhost:8080/"
        },
        "id": "Q3DFEMcMa80n",
        "outputId": "6b04a8ff-d26d-40a0-ac8d-9bc1070d586e"
      },
      "source": [
        "!kaggle datasets download -d averkij/boolq-dataset"
      ],
      "execution_count": 5,
      "outputs": [
        {
          "output_type": "stream",
          "name": "stdout",
          "text": [
            "boolq-dataset.zip: Skipping, found more recently modified local copy (use --force to force download)\n"
          ]
        }
      ]
    },
    {
      "cell_type": "code",
      "metadata": {
        "colab": {
          "base_uri": "https://localhost:8080/"
        },
        "id": "OPSo1Y23a-he",
        "outputId": "0e49f2eb-19d4-47e3-eb1c-330d241a4a38"
      },
      "source": [
        "!unzip boolq-dataset.zip"
      ],
      "execution_count": 6,
      "outputs": [
        {
          "output_type": "stream",
          "name": "stdout",
          "text": [
            "Archive:  boolq-dataset.zip\n",
            "replace dev.jsonl? [y]es, [n]o, [A]ll, [N]one, [r]ename: yes\n",
            "  inflating: dev.jsonl               \n",
            "replace test.jsonl? [y]es, [n]o, [A]ll, [N]one, [r]ename: yes\n",
            "  inflating: test.jsonl              \n",
            "replace train.jsonl? [y]es, [n]o, [A]ll, [N]one, [r]ename: yes\n",
            "  inflating: train.jsonl             \n"
          ]
        }
      ]
    },
    {
      "cell_type": "code",
      "metadata": {
        "colab": {
          "base_uri": "https://localhost:8080/"
        },
        "id": "HCcB8TLEa_zy",
        "outputId": "5f6c6a22-dc25-44dd-fa81-547aee1d7106"
      },
      "source": [
        "!ls -lah"
      ],
      "execution_count": 7,
      "outputs": [
        {
          "output_type": "stream",
          "name": "stdout",
          "text": [
            "total 15M\n",
            "drwxr-xr-x 1 root root 4.0K Oct 17 20:30 .\n",
            "drwxr-xr-x 1 root root 4.0K Oct 17 18:01 ..\n",
            "-rw-r--r-- 1 root root 4.0M Oct 17 18:03 boolq-dataset.zip\n",
            "drwxr-xr-x 4 root root 4.0K Oct  8 13:44 .config\n",
            "-rw-r--r-- 1 root root 2.2M Jan 17  2020 dev.jsonl\n",
            "-rw-r--r-- 1 root root   64 Oct 17 20:16 kaggle.json\n",
            "drwxr-xr-x 1 root root 4.0K Oct  8 13:45 sample_data\n",
            "-rw-r--r-- 1 root root 2.1M Jan 17  2020 test.jsonl\n",
            "-rw-r--r-- 1 root root 6.3M Jan 17  2020 train.jsonl\n"
          ]
        }
      ]
    },
    {
      "cell_type": "code",
      "metadata": {
        "colab": {
          "base_uri": "https://localhost:8080/",
          "height": 204
        },
        "id": "0JWDIj6fbA0X",
        "outputId": "32a1eaf1-4150-4892-bf31-a16c9f93eff7"
      },
      "source": [
        "import pandas as pd\n",
        "import json\n",
        "\n",
        "with open(\"train.jsonl\", \"r\") as file:\n",
        "  train_set = list(file)\n",
        "  \n",
        "train_set = pd.DataFrame([json.loads(x) for x in train_set])\n",
        "train_set.head()"
      ],
      "execution_count": 8,
      "outputs": [
        {
          "output_type": "execute_result",
          "data": {
            "text/html": [
              "<div>\n",
              "<style scoped>\n",
              "    .dataframe tbody tr th:only-of-type {\n",
              "        vertical-align: middle;\n",
              "    }\n",
              "\n",
              "    .dataframe tbody tr th {\n",
              "        vertical-align: top;\n",
              "    }\n",
              "\n",
              "    .dataframe thead th {\n",
              "        text-align: right;\n",
              "    }\n",
              "</style>\n",
              "<table border=\"1\" class=\"dataframe\">\n",
              "  <thead>\n",
              "    <tr style=\"text-align: right;\">\n",
              "      <th></th>\n",
              "      <th>question</th>\n",
              "      <th>title</th>\n",
              "      <th>answer</th>\n",
              "      <th>passage</th>\n",
              "    </tr>\n",
              "  </thead>\n",
              "  <tbody>\n",
              "    <tr>\n",
              "      <th>0</th>\n",
              "      <td>do iran and afghanistan speak the same language</td>\n",
              "      <td>Persian language</td>\n",
              "      <td>True</td>\n",
              "      <td>Persian (/ˈpɜːrʒən, -ʃən/), also known by its ...</td>\n",
              "    </tr>\n",
              "    <tr>\n",
              "      <th>1</th>\n",
              "      <td>do good samaritan laws protect those who help ...</td>\n",
              "      <td>Good Samaritan law</td>\n",
              "      <td>True</td>\n",
              "      <td>Good Samaritan laws offer legal protection to ...</td>\n",
              "    </tr>\n",
              "    <tr>\n",
              "      <th>2</th>\n",
              "      <td>is windows movie maker part of windows essentials</td>\n",
              "      <td>Windows Movie Maker</td>\n",
              "      <td>True</td>\n",
              "      <td>Windows Movie Maker (formerly known as Windows...</td>\n",
              "    </tr>\n",
              "    <tr>\n",
              "      <th>3</th>\n",
              "      <td>is confectionary sugar the same as powdered sugar</td>\n",
              "      <td>Powdered sugar</td>\n",
              "      <td>True</td>\n",
              "      <td>Powdered sugar, also called confectioners' sug...</td>\n",
              "    </tr>\n",
              "    <tr>\n",
              "      <th>4</th>\n",
              "      <td>is elder scrolls online the same as skyrim</td>\n",
              "      <td>The Elder Scrolls Online</td>\n",
              "      <td>False</td>\n",
              "      <td>As with other games in The Elder Scrolls serie...</td>\n",
              "    </tr>\n",
              "  </tbody>\n",
              "</table>\n",
              "</div>"
            ],
            "text/plain": [
              "                                            question  ...                                            passage\n",
              "0    do iran and afghanistan speak the same language  ...  Persian (/ˈpɜːrʒən, -ʃən/), also known by its ...\n",
              "1  do good samaritan laws protect those who help ...  ...  Good Samaritan laws offer legal protection to ...\n",
              "2  is windows movie maker part of windows essentials  ...  Windows Movie Maker (formerly known as Windows...\n",
              "3  is confectionary sugar the same as powdered sugar  ...  Powdered sugar, also called confectioners' sug...\n",
              "4         is elder scrolls online the same as skyrim  ...  As with other games in The Elder Scrolls serie...\n",
              "\n",
              "[5 rows x 4 columns]"
            ]
          },
          "metadata": {},
          "execution_count": 8
        }
      ]
    },
    {
      "cell_type": "code",
      "metadata": {
        "id": "oGWHaIE0bC74"
      },
      "source": [
        "with open(\"dev.jsonl\", \"r\") as file:\n",
        "  dev_set = list(file)\n",
        "  \n",
        "dev_set = pd.DataFrame([json.loads(x) for x in dev_set])"
      ],
      "execution_count": 9,
      "outputs": []
    },
    {
      "cell_type": "code",
      "metadata": {
        "colab": {
          "base_uri": "https://localhost:8080/"
        },
        "id": "59xa84-vbH00",
        "outputId": "6c088a91-eb75-4e09-e423-2c9294e66738"
      },
      "source": [
        "# Checking the True and False distribution\n",
        "\n",
        "train_set[\"answer\"].value_counts()"
      ],
      "execution_count": 10,
      "outputs": [
        {
          "output_type": "execute_result",
          "data": {
            "text/plain": [
              "True     5874\n",
              "False    3553\n",
              "Name: answer, dtype: int64"
            ]
          },
          "metadata": {},
          "execution_count": 10
        }
      ]
    },
    {
      "cell_type": "code",
      "metadata": {
        "colab": {
          "base_uri": "https://localhost:8080/"
        },
        "id": "HftXQRNNbK0U",
        "outputId": "02d4bc83-ff94-429a-de22-3dd195bd7e8f"
      },
      "source": [
        "# observing an entire training set\n",
        "import random\n",
        "from pprint import pprint\n",
        "pprint(train_set.sample(n=1).to_dict())"
      ],
      "execution_count": 11,
      "outputs": [
        {
          "output_type": "stream",
          "name": "stdout",
          "text": [
            "{'answer': {3976: True},\n",
            " 'passage': {3976: 'Oregon is a shall-issue concealed-carry state. and is '\n",
            "                   'notable for having very few restrictions on where a '\n",
            "                   'concealed firearm may be carried. Oregon also has '\n",
            "                   'statewide preemption for its concealed-carry laws--with '\n",
            "                   'limited exceptions, counties and cities cannot place '\n",
            "                   'limits on the ability of people to carry concealed weapons '\n",
            "                   'beyond those provided by state law.'},\n",
            " 'question': {3976: 'is it legal to carry a gun in your car in oregon'},\n",
            " 'title': {3976: 'Gun laws in Oregon'}}\n"
          ]
        }
      ]
    },
    {
      "cell_type": "code",
      "metadata": {
        "id": "B6uxbausqhuc"
      },
      "source": [
        "# Get the pre-trained word vectors\n",
        "import gensim.downloader\n",
        "glove_vectors = gensim.downloader.load('glove-twitter-25')"
      ],
      "execution_count": 12,
      "outputs": []
    },
    {
      "cell_type": "code",
      "metadata": {
        "id": "M8GDfkyVbNfE"
      },
      "source": [
        "from nltk.tokenize import TweetTokenizer\n",
        "tknzr = TweetTokenizer()\n",
        "\n",
        "import numpy\n",
        "\n",
        "def sent_from_word_vec(sent):\n",
        "    word_vecs = numpy.array([glove_vectors.get_vector(word) \n",
        "                    for word in tknzr.tokenize(sent) \n",
        "                        if word in glove_vectors.vocab])\n",
        "    sent_vec = word_vecs.sum(axis=0)/len(word_vecs)\n",
        "    return sent_vec"
      ],
      "execution_count": 13,
      "outputs": []
    },
    {
      "cell_type": "code",
      "metadata": {
        "id": "hbCEELyhl8nE"
      },
      "source": [
        "train_set[\"passage\"] = train_set[\"passage\"].apply(lambda sent: sent_from_word_vec(sent))\n",
        "train_set[\"question\"] = train_set[\"question\"].apply(lambda sent: sent_from_word_vec(sent))\n",
        "train_set[\"answer\"] = train_set[\"answer\"].apply(lambda answer: int(answer))\n",
        "# Averaging the question and answer vectors for each row\n",
        "# Scikit does not accept 3D arrays\n",
        "train_set[\"X\"] = numpy.average(train_set[[\"passage\", \"question\"]], axis=1)"
      ],
      "execution_count": 14,
      "outputs": []
    },
    {
      "cell_type": "code",
      "metadata": {
        "id": "Yh0bOct3odYC",
        "colab": {
          "base_uri": "https://localhost:8080/",
          "height": 589
        },
        "outputId": "fac23727-b40c-4ea7-f849-864c9436672c"
      },
      "source": [
        " train_set"
      ],
      "execution_count": 15,
      "outputs": [
        {
          "output_type": "execute_result",
          "data": {
            "text/html": [
              "<div>\n",
              "<style scoped>\n",
              "    .dataframe tbody tr th:only-of-type {\n",
              "        vertical-align: middle;\n",
              "    }\n",
              "\n",
              "    .dataframe tbody tr th {\n",
              "        vertical-align: top;\n",
              "    }\n",
              "\n",
              "    .dataframe thead th {\n",
              "        text-align: right;\n",
              "    }\n",
              "</style>\n",
              "<table border=\"1\" class=\"dataframe\">\n",
              "  <thead>\n",
              "    <tr style=\"text-align: right;\">\n",
              "      <th></th>\n",
              "      <th>question</th>\n",
              "      <th>title</th>\n",
              "      <th>answer</th>\n",
              "      <th>passage</th>\n",
              "      <th>X</th>\n",
              "    </tr>\n",
              "  </thead>\n",
              "  <tbody>\n",
              "    <tr>\n",
              "      <th>0</th>\n",
              "      <td>[0.39294538, 0.08274612, -0.21711724, 0.064575...</td>\n",
              "      <td>Persian language</td>\n",
              "      <td>1</td>\n",
              "      <td>[0.23099138, -0.17384271, 0.017014574, -0.0686...</td>\n",
              "      <td>[0.3119684, -0.045548297, -0.10005133, -0.0020...</td>\n",
              "    </tr>\n",
              "    <tr>\n",
              "      <th>1</th>\n",
              "      <td>[-0.054775283, 0.4831755, -0.29438272, 0.07330...</td>\n",
              "      <td>Good Samaritan law</td>\n",
              "      <td>1</td>\n",
              "      <td>[0.021168206, 0.21281487, -0.29497483, 0.05622...</td>\n",
              "      <td>[-0.016803538, 0.34799516, -0.29467878, 0.0647...</td>\n",
              "    </tr>\n",
              "    <tr>\n",
              "      <th>2</th>\n",
              "      <td>[0.19552127, -0.10706744, 0.21627998, -0.28216...</td>\n",
              "      <td>Windows Movie Maker</td>\n",
              "      <td>1</td>\n",
              "      <td>[0.31184742, -0.16116633, -0.02541366, 0.02326...</td>\n",
              "      <td>[0.25368434, -0.13411689, 0.09543316, -0.12945...</td>\n",
              "    </tr>\n",
              "    <tr>\n",
              "      <th>3</th>\n",
              "      <td>[0.0005991161, -0.13639699, 0.19951749, 0.3821...</td>\n",
              "      <td>Powdered sugar</td>\n",
              "      <td>1</td>\n",
              "      <td>[-0.17693591, -0.022432448, -0.06497649, 0.391...</td>\n",
              "      <td>[-0.0881684, -0.07941472, 0.0672705, 0.3866076...</td>\n",
              "    </tr>\n",
              "    <tr>\n",
              "      <th>4</th>\n",
              "      <td>[0.51841664, 0.011734881, 0.336105, -0.1527143...</td>\n",
              "      <td>The Elder Scrolls Online</td>\n",
              "      <td>0</td>\n",
              "      <td>[0.082923114, -0.033176657, 0.011410061, -0.04...</td>\n",
              "      <td>[0.30066988, -0.010720888, 0.17375752, -0.1006...</td>\n",
              "    </tr>\n",
              "    <tr>\n",
              "      <th>...</th>\n",
              "      <td>...</td>\n",
              "      <td>...</td>\n",
              "      <td>...</td>\n",
              "      <td>...</td>\n",
              "      <td>...</td>\n",
              "    </tr>\n",
              "    <tr>\n",
              "      <th>9422</th>\n",
              "      <td>[0.05144, 0.36529875, -0.35352126, -0.24321625...</td>\n",
              "      <td>United States district court</td>\n",
              "      <td>1</td>\n",
              "      <td>[0.09013317, 0.07126655, -0.19489315, -0.17184...</td>\n",
              "      <td>[0.07078658, 0.21828264, -0.2742072, -0.207529...</td>\n",
              "    </tr>\n",
              "    <tr>\n",
              "      <th>9423</th>\n",
              "      <td>[-0.089347005, 0.62398595, -0.322856, 0.254350...</td>\n",
              "      <td>Landlord harassment</td>\n",
              "      <td>1</td>\n",
              "      <td>[0.027521614, 0.25012004, -0.15202706, -0.0354...</td>\n",
              "      <td>[-0.030912695, 0.437053, -0.23744154, 0.109444...</td>\n",
              "    </tr>\n",
              "    <tr>\n",
              "      <th>9424</th>\n",
              "      <td>[-0.0039708912, 0.176761, -8.1250444e-05, -0.5...</td>\n",
              "      <td>Golden State Warriors</td>\n",
              "      <td>1</td>\n",
              "      <td>[0.14300688, 0.12835333, 0.12741962, -0.200886...</td>\n",
              "      <td>[0.06951799, 0.15255716, 0.06366918, -0.371998...</td>\n",
              "    </tr>\n",
              "    <tr>\n",
              "      <th>9425</th>\n",
              "      <td>[-0.18069042, 0.2675443, 0.37324128, -0.363978...</td>\n",
              "      <td>List of Downton Abbey episodes</td>\n",
              "      <td>0</td>\n",
              "      <td>[0.17481926, -0.12980554, 0.23540363, -0.16010...</td>\n",
              "      <td>[-0.002935581, 0.06886938, 0.30432245, -0.2620...</td>\n",
              "    </tr>\n",
              "    <tr>\n",
              "      <th>9426</th>\n",
              "      <td>[0.33542147, 0.028227892, -0.3723667, 0.174823...</td>\n",
              "      <td>Margin of error</td>\n",
              "      <td>0</td>\n",
              "      <td>[0.30715778, 0.083128855, -0.2245381, 0.107312...</td>\n",
              "      <td>[0.32128963, 0.055678375, -0.2984524, 0.141067...</td>\n",
              "    </tr>\n",
              "  </tbody>\n",
              "</table>\n",
              "<p>9427 rows × 5 columns</p>\n",
              "</div>"
            ],
            "text/plain": [
              "                                               question  ...                                                  X\n",
              "0     [0.39294538, 0.08274612, -0.21711724, 0.064575...  ...  [0.3119684, -0.045548297, -0.10005133, -0.0020...\n",
              "1     [-0.054775283, 0.4831755, -0.29438272, 0.07330...  ...  [-0.016803538, 0.34799516, -0.29467878, 0.0647...\n",
              "2     [0.19552127, -0.10706744, 0.21627998, -0.28216...  ...  [0.25368434, -0.13411689, 0.09543316, -0.12945...\n",
              "3     [0.0005991161, -0.13639699, 0.19951749, 0.3821...  ...  [-0.0881684, -0.07941472, 0.0672705, 0.3866076...\n",
              "4     [0.51841664, 0.011734881, 0.336105, -0.1527143...  ...  [0.30066988, -0.010720888, 0.17375752, -0.1006...\n",
              "...                                                 ...  ...                                                ...\n",
              "9422  [0.05144, 0.36529875, -0.35352126, -0.24321625...  ...  [0.07078658, 0.21828264, -0.2742072, -0.207529...\n",
              "9423  [-0.089347005, 0.62398595, -0.322856, 0.254350...  ...  [-0.030912695, 0.437053, -0.23744154, 0.109444...\n",
              "9424  [-0.0039708912, 0.176761, -8.1250444e-05, -0.5...  ...  [0.06951799, 0.15255716, 0.06366918, -0.371998...\n",
              "9425  [-0.18069042, 0.2675443, 0.37324128, -0.363978...  ...  [-0.002935581, 0.06886938, 0.30432245, -0.2620...\n",
              "9426  [0.33542147, 0.028227892, -0.3723667, 0.174823...  ...  [0.32128963, 0.055678375, -0.2984524, 0.141067...\n",
              "\n",
              "[9427 rows x 5 columns]"
            ]
          },
          "metadata": {},
          "execution_count": 15
        }
      ]
    },
    {
      "cell_type": "code",
      "metadata": {
        "colab": {
          "base_uri": "https://localhost:8080/"
        },
        "id": "icqAA10nqtQV",
        "outputId": "efff56f9-b79b-4107-b390-d2b081d88f1c"
      },
      "source": [
        "from sklearn.neural_network import MLPClassifier\n",
        "clf = MLPClassifier(random_state=0).fit(train_set[\"X\"].to_list(), train_set[\"answer\"].to_list())"
      ],
      "execution_count": 16,
      "outputs": [
        {
          "output_type": "stream",
          "name": "stderr",
          "text": [
            "/usr/local/lib/python3.7/dist-packages/sklearn/neural_network/_multilayer_perceptron.py:571: ConvergenceWarning: Stochastic Optimizer: Maximum iterations (200) reached and the optimization hasn't converged yet.\n",
            "  % self.max_iter, ConvergenceWarning)\n"
          ]
        }
      ]
    },
    {
      "cell_type": "code",
      "metadata": {
        "colab": {
          "base_uri": "https://localhost:8080/"
        },
        "id": "kHyL-aFZytqA",
        "outputId": "9d63929c-d046-4131-a9dd-06be25762878"
      },
      "source": [
        "dev_set[\"passage\"] = dev_set[\"passage\"].apply(lambda sent: sent_from_word_vec(sent))\n",
        "dev_set[\"question\"] = dev_set[\"question\"].apply(lambda sent: sent_from_word_vec(sent))\n",
        "dev_set[\"answer\"] = dev_set[\"answer\"].apply(lambda answer: int(answer))\n",
        "# Averaging the question and answer vectors for each row\n",
        "# Scikit does not accept 3D arrays\n",
        "dev_set[\"X\"] = numpy.average(dev_set[[\"passage\", \"question\"]], axis=1)\n",
        "\n",
        "clf.score(dev_set[\"X\"].to_list(), dev_set[\"answer\"].to_list())"
      ],
      "execution_count": 17,
      "outputs": [
        {
          "output_type": "execute_result",
          "data": {
            "text/plain": [
              "0.6195718654434251"
            ]
          },
          "metadata": {},
          "execution_count": 17
        }
      ]
    },
    {
      "cell_type": "code",
      "metadata": {
        "colab": {
          "base_uri": "https://localhost:8080/"
        },
        "id": "VVb5pBdW0zfJ",
        "outputId": "606735d5-7bee-4f88-adcd-23712709382d"
      },
      "source": [
        "from sklearn.metrics import classification_report\n",
        "\n",
        "predicted_values = clf.predict(dev_set[\"X\"].to_list())\n",
        "print(classification_report(dev_set[\"answer\"].to_list(), predicted_values))"
      ],
      "execution_count": 18,
      "outputs": [
        {
          "output_type": "stream",
          "name": "stdout",
          "text": [
            "              precision    recall  f1-score   support\n",
            "\n",
            "           0       0.49      0.20      0.28      1237\n",
            "           1       0.64      0.88      0.74      2033\n",
            "\n",
            "    accuracy                           0.62      3270\n",
            "   macro avg       0.57      0.54      0.51      3270\n",
            "weighted avg       0.59      0.62      0.57      3270\n",
            "\n"
          ]
        }
      ]
    },
    {
      "cell_type": "code",
      "metadata": {
        "id": "7yZjs9vL2dr7"
      },
      "source": [
        ""
      ],
      "execution_count": 18,
      "outputs": []
    }
  ]
}